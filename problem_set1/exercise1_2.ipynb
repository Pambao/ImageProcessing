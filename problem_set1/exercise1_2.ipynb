{
 "cells": [
  {
   "cell_type": "code",
   "execution_count": 1,
   "metadata": {},
   "outputs": [
    {
     "data": {
      "image/png": "[encoded data removed]",
      "text/plain": [
       "<PIL.Image.Image image mode=RGB size=64x64 at 0x15D22A2E8E0>"
      ]
     },
     "metadata": {},
     "output_type": "display_data"
    }
   ],
   "source": [
    "import sys\n",
    "from PIL import Image, ImageDraw\n",
    "import sys\n",
    "import math\n",
    "\n",
    "img = Image.new(\"RGB\", (64,64),\"white\")\n",
    "width, height = img.size\n",
    "c=[32,32]\n",
    "\n",
    "d = 16\n",
    "change = int(256/d);\n",
    "\n",
    "# cityblock\n",
    "for x in range(height):\n",
    "   for y in range(width):\n",
    "       if(abs(c[0]-x)+abs(c[1]-y) <= d):\n",
    "           proportion = abs(abs(c[0]-x)+abs(c[1]-y) - d)\n",
    "           img.putpixel((x,y),(change*proportion,change*proportion,change*proportion,0))\n",
    "\n",
    "display(img)"
   ]
  },
  {
   "cell_type": "code",
   "execution_count": 2,
   "metadata": {},
   "outputs": [
    {
     "data": {
      "image/png": "[encoded data removed]",
      "text/plain": [
       "<PIL.Image.Image image mode=RGB size=64x64 at 0x15D22959A60>"
      ]
     },
     "metadata": {},
     "output_type": "display_data"
    }
   ],
   "source": [
    "# euclide\n",
    "img = Image.new(\"RGB\", (64,64),\"white\")\n",
    "for x in range(height):\n",
    "   for y in range(width):\n",
    "       if(round(math.sqrt(pow(c[0]-x,2) + pow(c[1]-y,2)))<=d):\n",
    "           proportion = abs(round(math.sqrt(pow(c[0]-x,2) + pow(c[1]-y,2))) - d)\n",
    "           img.putpixel((x,y),(change*proportion,change*proportion,change*proportion,0))\n",
    "           \n",
    "\n",
    "display(img)"
   ]
  },
  {
   "cell_type": "code",
   "execution_count": 3,
   "metadata": {},
   "outputs": [
    {
     "data": {
      "image/png": "[encoded data removed]",
      "text/plain": [
       "<PIL.Image.Image image mode=RGB size=64x64 at 0x15D22968880>"
      ]
     },
     "metadata": {},
     "output_type": "display_data"
    }
   ],
   "source": [
    "#cityblock\n",
    "img = Image.new(\"RGB\", (64,64),\"white\")\n",
    "for x in range(height):\n",
    "    for y in range(width):\n",
    "        if(round(max(abs(c[0]-x),abs(c[1]-y)))<=d):\n",
    "            proportion = abs(max(abs(c[0]-x),abs(c[1]-y)) - d)\n",
    "            img.putpixel((x,y),(change*proportion,change*proportion,change*proportion,0))\n",
    "\n",
    "display(img)"
   ]
  },
  {
   "cell_type": "code",
   "execution_count": 4,
   "metadata": {},
   "outputs": [
    {
     "name": "stdout",
     "output_type": "stream",
     "text": [
      "16,16,49\n",
      "17,16,49\n",
      "18,16,49\n",
      "19,16,49\n",
      "20,16,49\n",
      "21,16,49\n",
      "22,16,49\n",
      "23,16,49\n",
      "24,16,49\n",
      "25,16,49\n",
      "26,16,49\n",
      "27,16,49\n",
      "28,16,49\n",
      "29,16,49\n",
      "30,16,49\n",
      "31,16,49\n",
      "32,16,32\n",
      "32,33,49\n",
      "33,16,49\n",
      "34,16,49\n",
      "35,16,49\n",
      "36,16,49\n",
      "37,16,49\n",
      "38,16,49\n",
      "39,16,49\n",
      "40,16,49\n",
      "41,16,49\n",
      "42,16,49\n",
      "43,16,49\n",
      "44,16,49\n",
      "45,16,49\n",
      "46,16,49\n",
      "47,16,49\n",
      "48,16,49\n"
     ]
    }
   ],
   "source": [
    "#length-code for the last image\n",
    "def run_length():\n",
    "    inValue = 0;\n",
    "    arr = []\n",
    "    for y in range(height):\n",
    "        for x in range(width):\n",
    "            r,g,b = img.getpixel((x,y))\n",
    "            if( r == g == b != 255 and inValue == 0):\n",
    "                inValue = 1\n",
    "                startX = x\n",
    "            elif( r == g == b == 255 and inValue == 1):\n",
    "                inValue = 0\n",
    "                endX = x\n",
    "                print(str(y)+\",\"+str(startX)+\",\"+str(endX))\n",
    "                arr.append((y,startX,endX))\n",
    "                continue\n",
    "    return arr\n",
    "i = 0\n",
    "arr = run_length();"
   ]
  },
  {
   "cell_type": "code",
   "execution_count": 6,
   "metadata": {},
   "outputs": [
    {
     "data": {
      "image/png": "[encoded data removed]",
      "text/plain": [
       "<PIL.Image.Image image mode=RGB size=64x64 at 0x15D229598E0>"
      ]
     },
     "metadata": {},
     "output_type": "display_data"
    }
   ],
   "source": [
    "#Create image from run length code\n",
    "img = Image.new(\"RGB\", (64,64),\"white\")\n",
    "for i in range(len(arr)):\n",
    "    for x in range(arr[i][1],arr[i][2]):\n",
    "        img.putpixel((x,arr[i][0]),0)\n",
    "display(img)"
   ]
  },
  {
   "cell_type": "code",
   "execution_count": null,
   "metadata": {},
   "outputs": [],
   "source": []
  }
 ],
 "metadata": {
  "kernelspec": {
   "display_name": "Python 3",
   "language": "python",
   "name": "python3"
  },
  "language_info": {
   "codemirror_mode": {
    "name": "ipython",
    "version": 3
   },
   "file_extension": ".py",
   "mimetype": "text/x-python",
   "name": "python",
   "nbconvert_exporter": "python",
   "pygments_lexer": "ipython3",
   "version": "3.9.0"
  }
 },
 "nbformat": 4,
 "nbformat_minor": 4
}
