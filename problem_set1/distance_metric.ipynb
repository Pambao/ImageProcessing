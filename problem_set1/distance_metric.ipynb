{
 "cells": [
  {
   "cell_type": "code",
   "execution_count": 4,
   "metadata": {},
   "outputs": [
    {
     "data": {
      "image/png": "[encoded data removed]",
      "text/plain": [
       "<PIL.Image.Image image mode=L size=64x64 at 0x184A8A69E50>"
      ]
     },
     "metadata": {},
     "output_type": "display_data"
    }
   ],
   "source": [
    "from __future__ import print_function\n",
    "import sys\n",
    "from PIL import Image, ImageDraw\n",
    "import sys\n",
    "import math\n",
    "\n",
    "img = Image.new(\"L\", (64,64),\"white\")\n",
    "width, height = img.size\n",
    "center = sys.argv[0];\n",
    "c=[32,32]\n",
    "d = 10\n",
    "\n",
    "# for euclide: 1 region\n",
    "for x in range(height):\n",
    "   for y in range(width):\n",
    "      if(round(math.sqrt(pow(c[0]-x,2) + pow(c[1]-y,2))) == d):\n",
    "          img.putpixel((x,y),1)\n",
    "\n",
    "display(img)\n"
   ]
  },
  {
   "cell_type": "code",
   "execution_count": 6,
   "metadata": {},
   "outputs": [
    {
     "data": {
      "image/png": "[encoded data removed]",
      "text/plain": [
       "<PIL.Image.Image image mode=L size=64x64 at 0x184A8A69A60>"
      ]
     },
     "metadata": {},
     "output_type": "display_data"
    }
   ],
   "source": [
    "# cityblock: 1 region\n",
    "img = Image.new(\"L\", (64,64),\"white\")\n",
    "for x in range(height):\n",
    "   for y in range(width):\n",
    "       if(abs(c[0]-x)+abs(c[1]-y) == d):\n",
    "           img.putpixel((x,y),1)\n",
    "display(img)\n",
    "\n"
   ]
  },
  {
   "cell_type": "code",
   "execution_count": 8,
   "metadata": {},
   "outputs": [
    {
     "data": {
      "image/png": "[encoded data removed]",
      "text/plain": [
       "<PIL.Image.Image image mode=L size=64x64 at 0x184A8A69970>"
      ]
     },
     "metadata": {},
     "output_type": "display_data"
    }
   ],
   "source": [
    "# chessboard: 1 region\n",
    "img = Image.new(\"L\", (64,64),\"white\")\n",
    "for x in range(height):\n",
    "    for y in range(width):\n",
    "        if(max(abs(c[0]-x),abs(c[1]-y)) == d):\n",
    "            img.putpixel((x,y),1)\n",
    "display(img)"
   ]
  },
  {
   "cell_type": "markdown",
   "metadata": {},
   "source": [
    "## All of the metrics produces 2 regions (background and the shape itself)"
   ]
  }
 ],
 "metadata": {
  "kernelspec": {
   "display_name": "Python 3",
   "language": "python",
   "name": "python3"
  },
  "language_info": {
   "codemirror_mode": {
    "name": "ipython",
    "version": 3
   },
   "file_extension": ".py",
   "mimetype": "text/x-python",
   "name": "python",
   "nbconvert_exporter": "python",
   "pygments_lexer": "ipython3",
   "version": "3.9.0"
  }
 },
 "nbformat": 4,
 "nbformat_minor": 4
}
